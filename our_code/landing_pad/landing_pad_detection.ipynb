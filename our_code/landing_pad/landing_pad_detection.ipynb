{
 "cells": [
  {
   "cell_type": "code",
   "execution_count": 1,
   "outputs": [],
   "source": [
    "import cv2\n",
    "import numpy as np\n",
    "import matplotlib.pyplot as plt\n",
    "import cv2.aruco as aruco\n",
    "import glob"
   ],
   "metadata": {
    "collapsed": false,
    "pycharm": {
     "name": "#%%\n"
    }
   }
  },
  {
   "cell_type": "markdown",
   "source": [
    "# Generate the ArUco Markers."
   ],
   "metadata": {
    "collapsed": false,
    "pycharm": {
     "name": "#%% md\n"
    }
   }
  },
  {
   "cell_type": "code",
   "execution_count": 2,
   "outputs": [
    {
     "data": {
      "text/plain": "<matplotlib.image.AxesImage at 0x1c7602a7370>"
     },
     "execution_count": 2,
     "metadata": {},
     "output_type": "execute_result"
    },
    {
     "data": {
      "text/plain": "<Figure size 432x288 with 1 Axes>",
      "image/png": "[encoded data removed]"
     },
     "metadata": {
      "needs_background": "light"
     },
     "output_type": "display_data"
    }
   ],
   "source": [
    "%matplotlib inline\n",
    "tag1 = np.zeros((300, 300, 1), dtype=\"uint8\")\n",
    "\n",
    "dictionary = aruco.Dictionary_get(aruco.DICT_5X5_250)\n",
    "aruco.drawMarker(dictionary, 248, 300, tag1, 1)\n",
    "\n",
    "fig = plt.figure()\n",
    "plt.imshow(tag1, cmap = plt.cm.gray)\n"
   ],
   "metadata": {
    "collapsed": false,
    "pycharm": {
     "name": "#%%\n"
    }
   }
  },
  {
   "cell_type": "markdown",
   "source": [
    "# Calibrate the camera."
   ],
   "metadata": {
    "collapsed": false,
    "pycharm": {
     "name": "#%% md\n"
    }
   }
  },
  {
   "cell_type": "code",
   "execution_count": 4,
   "outputs": [],
   "source": [
    "# termination criteria\n",
    "criteria = (cv2.TERM_CRITERIA_EPS + cv2.TERM_CRITERIA_MAX_ITER, 30, 0.001)\n",
    "\n",
    "\n",
    "def calibrate(dirpath, prefix, image_format, square_size, width=9, height=6):\n",
    "    \"\"\" Apply camera calibration operation for images in the given directory path. \"\"\"\n",
    "    # prepare object points, like (0,0,0), (1,0,0), (2,0,0) ....,(8,6,0)\n",
    "    objp = np.zeros((height*width, 3), np.float32)\n",
    "    objp[:, :2] = np.mgrid[0:width, 0:height].T.reshape(-1, 2)\n",
    "\n",
    "    objp = objp * square_size\n",
    "\n",
    "    # Arrays to store object points and image points from all the images.\n",
    "    objpoints = []  # 3d point in real world space\n",
    "    imgpoints = []  # 2d points in image plane.\n",
    "\n",
    "    if dirpath[-1:] == '/':\n",
    "        dirpath = dirpath[:-1]\n",
    "\n",
    "    images = glob.glob(dirpath+'/' + prefix + '*.' + image_format)\n",
    "\n",
    "    for fname in images:\n",
    "        img = cv2.imread(fname)\n",
    "        gray = cv2.cvtColor(img, cv2.COLOR_BGR2GRAY)\n",
    "\n",
    "        # Find the chess board corners\n",
    "        ret, corners = cv2.findChessboardCorners(gray, (width, height), None)\n",
    "\n",
    "        # If found, add object points, image points (after refining them)\n",
    "        if ret:\n",
    "            objpoints.append(objp)\n",
    "\n",
    "            corners2 = cv2.cornerSubPix(gray, corners, (11, 11), (-1, -1), criteria)\n",
    "            imgpoints.append(corners2)\n",
    "\n",
    "            # Draw and display the corners\n",
    "            img = cv2.drawChessboardCorners(img, (width, height), corners2, ret)\n",
    "\n",
    "    ret, mtx, dist, rvecs, tvecs = cv2.calibrateCamera(objpoints, imgpoints, gray.shape[::-1], None, None)\n",
    "\n",
    "    return [ret, mtx, dist, rvecs, tvecs]\n",
    "def save_coefficients(mtx, dist, path):\n",
    "    \"\"\" Save the camera matrix and the distortion coefficients to given path/file. \"\"\"\n",
    "    cv_file = cv2.FileStorage(path, cv2.FILE_STORAGE_WRITE)\n",
    "    cv_file.write(\"K\", mtx)\n",
    "    cv_file.write(\"D\", dist)\n",
    "    # note you *release* you don't close() a FileStorage object\n",
    "    cv_file.release()\n",
    "def load_coefficients(path):\n",
    "    \"\"\" Loads camera matrix and distortion coefficients. \"\"\"\n",
    "    # FILE_STORAGE_READ\n",
    "    cv_file = cv2.FileStorage(path, cv2.FILE_STORAGE_READ)\n",
    "\n",
    "    # note we also have to specify the type to retrieve other wise we only get a\n",
    "    # FileNode object back instead of a matrix\n",
    "    camera_matrix = cv_file.getNode(\"K\").mat()\n",
    "    dist_matrix = cv_file.getNode(\"D\").mat()\n",
    "\n",
    "    cv_file.release()\n",
    "    return [camera_matrix, dist_matrix]"
   ],
   "metadata": {
    "collapsed": false,
    "pycharm": {
     "name": "#%%\n"
    }
   }
  },
  {
   "cell_type": "code",
   "execution_count": 3,
   "outputs": [
    {
     "ename": "NameError",
     "evalue": "name 'calibrate' is not defined",
     "output_type": "error",
     "traceback": [
      "\u001B[1;31m---------------------------------------------------------------------------\u001B[0m",
      "\u001B[1;31mNameError\u001B[0m                                 Traceback (most recent call last)",
      "Input \u001B[1;32mIn [3]\u001B[0m, in \u001B[0;36m<cell line: 1>\u001B[1;34m()\u001B[0m\n\u001B[1;32m----> 1\u001B[0m ret, mtx, dist, rvecs, tvecs \u001B[38;5;241m=\u001B[39m \u001B[43mcalibrate\u001B[49m(\u001B[38;5;124m'\u001B[39m\u001B[38;5;124mcalibrate_images\u001B[39m\u001B[38;5;124m'\u001B[39m, \u001B[38;5;124m'\u001B[39m\u001B[38;5;124mimg\u001B[39m\u001B[38;5;124m'\u001B[39m, \u001B[38;5;124m'\u001B[39m\u001B[38;5;124mjpg\u001B[39m\u001B[38;5;124m'\u001B[39m, \u001B[38;5;241m0.024\u001B[39m, \u001B[38;5;241m9\u001B[39m, \u001B[38;5;241m6\u001B[39m)\n\u001B[0;32m      2\u001B[0m save_coefficients(mtx, dist, \u001B[38;5;124m'\u001B[39m\u001B[38;5;124m13pro_coef\u001B[39m\u001B[38;5;124m'\u001B[39m)\n\u001B[0;32m      3\u001B[0m \u001B[38;5;28mprint\u001B[39m(\u001B[38;5;124m\"\u001B[39m\u001B[38;5;124mCalibration is finished. RMS: \u001B[39m\u001B[38;5;124m\"\u001B[39m, ret)\n",
      "\u001B[1;31mNameError\u001B[0m: name 'calibrate' is not defined"
     ]
    }
   ],
   "source": [
    "ret, mtx, dist, rvecs, tvecs = calibrate('calibrate_images', 'img', 'jpg', 0.024, 9, 6)\n",
    "save_coefficients(mtx, dist, '13pro_coef')\n",
    "print(\"Calibration is finished. RMS: \", ret)"
   ],
   "metadata": {
    "collapsed": false,
    "pycharm": {
     "name": "#%%\n"
    }
   }
  },
  {
   "cell_type": "code",
   "execution_count": 5,
   "outputs": [],
   "source": [
    "[camera_matrix, dist_matrix] = load_coefficients('13pro_coef')"
   ],
   "metadata": {
    "collapsed": false,
    "pycharm": {
     "name": "#%%\n"
    }
   }
  },
  {
   "cell_type": "code",
   "execution_count": 6,
   "outputs": [],
   "source": [
    "cap = cv2.VideoCapture('test.mp4')  # Get the camera source\n",
    "width = cap.get(cv2. CAP_PROP_FRAME_WIDTH )   # float `width`\n",
    "height = cap.get(cv2. CAP_PROP_FRAME_HEIGHT )  # float `height`\n",
    "size = (width, height)\n",
    "fps = cap.get(cv2. CAP_PROP_FPS)"
   ],
   "metadata": {
    "collapsed": false,
    "pycharm": {
     "name": "#%%\n"
    }
   }
  },
  {
   "cell_type": "code",
   "execution_count": 113,
   "outputs": [],
   "source": [
    "def draw_text(img, text,\n",
    "          font=cv2.FONT_HERSHEY_PLAIN,\n",
    "          pos=(0, 0),\n",
    "          font_scale=3,\n",
    "          font_thickness=2,\n",
    "          text_color=(0, 255, 0),\n",
    "          text_color_bg=(0, 0, 0)\n",
    "          ):\n",
    "\n",
    "    x, y = pos\n",
    "    text_size, _ = cv2.getTextSize(text, font, font_scale, font_thickness)\n",
    "    text_w, text_h = text_size\n",
    "    cv2.rectangle(img, pos, (x + text_w, y - text_h), text_color_bg, -1)\n",
    "    cv2.putText(img, text, (x, y - font_scale - 1), font, font_scale, text_color, font_thickness)\n"
   ],
   "metadata": {
    "collapsed": false,
    "pycharm": {
     "name": "#%%\n"
    }
   }
  },
  {
   "cell_type": "code",
   "execution_count": 114,
   "outputs": [],
   "source": [
    "cap = cv2.VideoCapture('shakytestbox.mp4')  # Get the camera source\n",
    "width = cap.get(cv2. CAP_PROP_FRAME_WIDTH )   # float `width`\n",
    "height = cap.get(cv2. CAP_PROP_FRAME_HEIGHT )  # float `height`\n",
    "size = (int(width), int(height))\n",
    "fps = cap.get(cv2. CAP_PROP_FPS)\n",
    "\n",
    "\n",
    "\n",
    "list_frames_detection = []\n",
    "\n",
    "while True:\n",
    "    ret, frame = cap.read()\n",
    "    if ret == False:\n",
    "        break\n",
    "    # operations on the frame come here\n",
    "    aruco_dict = aruco.Dictionary_get(aruco.DICT_5X5_250)  # Use 5x5 dictionary to find markers\n",
    "    parameters = aruco.DetectorParameters_create()  # Marker detection parameters\n",
    "\n",
    "    corners, ids, rejected = cv2.aruco.detectMarkers(image=frame, dictionary=aruco_dict, parameters=parameters)\n",
    "    color = (0,0,255)\n",
    "\n",
    "    if len(corners) == 4:\n",
    "        point_1 = [int(i) for i in (corners[np.where(ids==248)[0][0]][0][0])]\n",
    "        point_2 = [int(i) for i in (corners[np.where(ids==200)[0][0]][0][1])]\n",
    "        point_3 = [int(i) for i in (corners[np.where(ids==150)[0][0]][0][3])]\n",
    "        point_4 = [int(i) for i in (corners[np.where(ids==100)[0][0]][0][2])]\n",
    "        cv2.line(frame, point_1,point_2, color, 2)\n",
    "        cv2.line(frame, point_3,point_4, color, 2)\n",
    "        cv2.line(frame, point_1,point_3, color, 2)\n",
    "        cv2.line(frame, point_2,point_4, color, 2)\n",
    "\n",
    "        draw_text(frame, \"Landing Pad\", font=cv2.FONT_HERSHEY_SIMPLEX, font_scale=1, pos=point_1, text_color_bg=color, text_color=(255,255,255))\n",
    "\n",
    "    else:\n",
    "        x_coors = np.array([])\n",
    "        y_coors = np.array([])\n",
    "        for corner in corners:\n",
    "            x_coors = np.append(x_coors, corner.T[0])\n",
    "            y_coors = np.append(y_coors, corner.T[1])\n",
    "        if x_coors.any() or y_coors.any():\n",
    "            x_min = np.min(x_coors)\n",
    "            y_min = np.min(y_coors)\n",
    "            x_max = np.max(x_coors)\n",
    "            y_max = np.max(y_coors)\n",
    "        cv2.rectangle(frame, (int(x_max),int(y_max)), (int(x_min), int(y_min)), color, 2)\n",
    "\n",
    "        org = (int(x_min), int(y_min))\n",
    "        draw_text(frame, \"Landing Pad\", font=cv2.FONT_HERSHEY_SIMPLEX, font_scale=1, pos=org, text_color_bg=color, text_color=(255,255,255))\n",
    "\n",
    "    list_frames_detection.append(frame)\n",
    "\n",
    "\n",
    "\n",
    "out = cv2.VideoWriter('detection.mp4', cv2.VideoWriter_fourcc(*'mp4v'), fps, size)\n",
    "for i in range(len(list_frames_detection)):\n",
    "    out.write(list_frames_detection[i])\n",
    "out.release()\n"
   ],
   "metadata": {
    "collapsed": false,
    "pycharm": {
     "name": "#%%\n"
    }
   }
  },
  {
   "cell_type": "code",
   "execution_count": 10,
   "outputs": [
    {
     "ename": "KeyboardInterrupt",
     "evalue": "",
     "output_type": "error",
     "traceback": [
      "\u001B[1;31m---------------------------------------------------------------------------\u001B[0m",
      "\u001B[1;31mKeyboardInterrupt\u001B[0m                         Traceback (most recent call last)",
      "Input \u001B[1;32mIn [10]\u001B[0m, in \u001B[0;36m<cell line: 62>\u001B[1;34m()\u001B[0m\n\u001B[0;32m     59\u001B[0m         out\u001B[38;5;241m.\u001B[39mwrite(list_frames_detection[i])\n\u001B[0;32m     60\u001B[0m     out\u001B[38;5;241m.\u001B[39mrelease()\n\u001B[1;32m---> 62\u001B[0m \u001B[43mtrack\u001B[49m\u001B[43m(\u001B[49m\u001B[43mcamera_matrix\u001B[49m\u001B[43m,\u001B[49m\u001B[43mdist_matrix\u001B[49m\u001B[43m)\u001B[49m\n",
      "Input \u001B[1;32mIn [10]\u001B[0m, in \u001B[0;36mtrack\u001B[1;34m(matrix_coefficients, distortion_coefficients)\u001B[0m\n\u001B[0;32m     27\u001B[0m         rvec, tvec, markerPoints \u001B[38;5;241m=\u001B[39m aruco\u001B[38;5;241m.\u001B[39mestimatePoseSingleMarkers(corners[i], \u001B[38;5;241m0.02\u001B[39m, matrix_coefficients,\n\u001B[0;32m     28\u001B[0m                                                                    distortion_coefficients)\n\u001B[0;32m     29\u001B[0m         (rvec \u001B[38;5;241m-\u001B[39m tvec)\u001B[38;5;241m.\u001B[39many()  \u001B[38;5;66;03m# get rid of that nasty numpy value array error\u001B[39;00m\n\u001B[1;32m---> 31\u001B[0m corners, ids, rejected \u001B[38;5;241m=\u001B[39m \u001B[43mcv2\u001B[49m\u001B[38;5;241m.\u001B[39maruco\u001B[38;5;241m.\u001B[39mdetectMarkers(image\u001B[38;5;241m=\u001B[39mframe, dictionary\u001B[38;5;241m=\u001B[39maruco_dict, parameters\u001B[38;5;241m=\u001B[39mparameters)\n\u001B[0;32m     33\u001B[0m x_coors \u001B[38;5;241m=\u001B[39m np\u001B[38;5;241m.\u001B[39marray([])\n\u001B[0;32m     34\u001B[0m y_coors \u001B[38;5;241m=\u001B[39m np\u001B[38;5;241m.\u001B[39marray([])\n",
      "Input \u001B[1;32mIn [10]\u001B[0m, in \u001B[0;36mtrack\u001B[1;34m(matrix_coefficients, distortion_coefficients)\u001B[0m\n\u001B[0;32m     27\u001B[0m         rvec, tvec, markerPoints \u001B[38;5;241m=\u001B[39m aruco\u001B[38;5;241m.\u001B[39mestimatePoseSingleMarkers(corners[i], \u001B[38;5;241m0.02\u001B[39m, matrix_coefficients,\n\u001B[0;32m     28\u001B[0m                                                                    distortion_coefficients)\n\u001B[0;32m     29\u001B[0m         (rvec \u001B[38;5;241m-\u001B[39m tvec)\u001B[38;5;241m.\u001B[39many()  \u001B[38;5;66;03m# get rid of that nasty numpy value array error\u001B[39;00m\n\u001B[1;32m---> 31\u001B[0m corners, ids, rejected \u001B[38;5;241m=\u001B[39m \u001B[43mcv2\u001B[49m\u001B[38;5;241m.\u001B[39maruco\u001B[38;5;241m.\u001B[39mdetectMarkers(image\u001B[38;5;241m=\u001B[39mframe, dictionary\u001B[38;5;241m=\u001B[39maruco_dict, parameters\u001B[38;5;241m=\u001B[39mparameters)\n\u001B[0;32m     33\u001B[0m x_coors \u001B[38;5;241m=\u001B[39m np\u001B[38;5;241m.\u001B[39marray([])\n\u001B[0;32m     34\u001B[0m y_coors \u001B[38;5;241m=\u001B[39m np\u001B[38;5;241m.\u001B[39marray([])\n",
      "File \u001B[1;32m_pydevd_bundle\\pydevd_cython_win32_310_64.pyx:1179\u001B[0m, in \u001B[0;36m_pydevd_bundle.pydevd_cython_win32_310_64.SafeCallWrapper.__call__\u001B[1;34m()\u001B[0m\n",
      "File \u001B[1;32m_pydevd_bundle\\pydevd_cython_win32_310_64.pyx:620\u001B[0m, in \u001B[0;36m_pydevd_bundle.pydevd_cython_win32_310_64.PyDBFrame.trace_dispatch\u001B[1;34m()\u001B[0m\n",
      "File \u001B[1;32m_pydevd_bundle\\pydevd_cython_win32_310_64.pyx:929\u001B[0m, in \u001B[0;36m_pydevd_bundle.pydevd_cython_win32_310_64.PyDBFrame.trace_dispatch\u001B[1;34m()\u001B[0m\n",
      "File \u001B[1;32m_pydevd_bundle\\pydevd_cython_win32_310_64.pyx:920\u001B[0m, in \u001B[0;36m_pydevd_bundle.pydevd_cython_win32_310_64.PyDBFrame.trace_dispatch\u001B[1;34m()\u001B[0m\n",
      "File \u001B[1;32m_pydevd_bundle\\pydevd_cython_win32_310_64.pyx:317\u001B[0m, in \u001B[0;36m_pydevd_bundle.pydevd_cython_win32_310_64.PyDBFrame.do_wait_suspend\u001B[1;34m()\u001B[0m\n",
      "File \u001B[1;32mC:\\Program Files\\JetBrains\\PyCharm 2022.1.3\\plugins\\python\\helpers\\pydev\\pydevd.py:1155\u001B[0m, in \u001B[0;36mPyDB.do_wait_suspend\u001B[1;34m(self, thread, frame, event, arg, send_suspend_message, is_unhandled_exception)\u001B[0m\n\u001B[0;32m   1152\u001B[0m         from_this_thread\u001B[38;5;241m.\u001B[39mappend(frame_id)\n\u001B[0;32m   1154\u001B[0m \u001B[38;5;28;01mwith\u001B[39;00m \u001B[38;5;28mself\u001B[39m\u001B[38;5;241m.\u001B[39m_threads_suspended_single_notification\u001B[38;5;241m.\u001B[39mnotify_thread_suspended(thread_id, stop_reason):\n\u001B[1;32m-> 1155\u001B[0m     \u001B[38;5;28;43mself\u001B[39;49m\u001B[38;5;241;43m.\u001B[39;49m\u001B[43m_do_wait_suspend\u001B[49m\u001B[43m(\u001B[49m\u001B[43mthread\u001B[49m\u001B[43m,\u001B[49m\u001B[43m \u001B[49m\u001B[43mframe\u001B[49m\u001B[43m,\u001B[49m\u001B[43m \u001B[49m\u001B[43mevent\u001B[49m\u001B[43m,\u001B[49m\u001B[43m \u001B[49m\u001B[43marg\u001B[49m\u001B[43m,\u001B[49m\u001B[43m \u001B[49m\u001B[43msuspend_type\u001B[49m\u001B[43m,\u001B[49m\u001B[43m \u001B[49m\u001B[43mfrom_this_thread\u001B[49m\u001B[43m)\u001B[49m\n",
      "File \u001B[1;32mC:\\Program Files\\JetBrains\\PyCharm 2022.1.3\\plugins\\python\\helpers\\pydev\\pydevd.py:1170\u001B[0m, in \u001B[0;36mPyDB._do_wait_suspend\u001B[1;34m(self, thread, frame, event, arg, suspend_type, from_this_thread)\u001B[0m\n\u001B[0;32m   1167\u001B[0m             \u001B[38;5;28mself\u001B[39m\u001B[38;5;241m.\u001B[39m_call_mpl_hook()\n\u001B[0;32m   1169\u001B[0m         \u001B[38;5;28mself\u001B[39m\u001B[38;5;241m.\u001B[39mprocess_internal_commands()\n\u001B[1;32m-> 1170\u001B[0m         \u001B[43mtime\u001B[49m\u001B[38;5;241;43m.\u001B[39;49m\u001B[43msleep\u001B[49m\u001B[43m(\u001B[49m\u001B[38;5;241;43m0.01\u001B[39;49m\u001B[43m)\u001B[49m\n\u001B[0;32m   1172\u001B[0m \u001B[38;5;28mself\u001B[39m\u001B[38;5;241m.\u001B[39mcancel_async_evaluation(get_current_thread_id(thread), \u001B[38;5;28mstr\u001B[39m(\u001B[38;5;28mid\u001B[39m(frame)))\n\u001B[0;32m   1174\u001B[0m \u001B[38;5;66;03m# process any stepping instructions\u001B[39;00m\n",
      "\u001B[1;31mKeyboardInterrupt\u001B[0m: "
     ]
    }
   ],
   "source": [
    "cap = cv2.VideoCapture('testbox.mp4')  # Get the camera source\n",
    "width = cap.get(cv2. CAP_PROP_FRAME_WIDTH )   # float `width`\n",
    "height = cap.get(cv2. CAP_PROP_FRAME_HEIGHT )  # float `height`\n",
    "size = (int(width), int(height))\n",
    "fps = cap.get(cv2. CAP_PROP_FPS)\n",
    "\n",
    "def track(matrix_coefficients, distortion_coefficients):\n",
    "\n",
    "    list_frames_detection = []\n",
    "\n",
    "    while True:\n",
    "        ret, frame = cap.read()\n",
    "        if ret == False:\n",
    "            break\n",
    "        # operations on the frame come here\n",
    "        gray = cv2.cvtColor(frame, cv2.COLOR_BGR2GRAY)  # Change grayscale\n",
    "        aruco_dict = aruco.Dictionary_get(aruco.DICT_5X5_250)  # Use 5x5 dictionary to find markers\n",
    "        parameters = aruco.DetectorParameters_create()  # Marker detection parameters\n",
    "        # lists of ids and the corners beloning to each id\n",
    "        # corners, ids, rejected_img_points = aruco.detectMarkers(gray, aruco_dict,\n",
    "        #                                                         parameters=parameters)\n",
    "        #                                                         # cameraMatrix=matrix_coefficients,\n",
    "        #                                                         # distCoeff=distortion_coefficients)\n",
    "        # if np.all(ids is not None):  # If there are markers found by detector\n",
    "        #     for i in range(0, len(ids)):  # Iterate in markers\n",
    "        #         # Estimate pose of each marker and return the values rvec and tvec---different from camera coefficients\n",
    "        #         rvec, tvec, markerPoints = aruco.estimatePoseSingleMarkers(corners[i], 0.02, matrix_coefficients,\n",
    "        #                                                                    distortion_coefficients)\n",
    "        #         (rvec - tvec).any()  # get rid of that nasty numpy value array error\n",
    "\n",
    "        corners, ids, rejected = cv2.aruco.detectMarkers(image=frame, dictionary=aruco_dict, parameters=parameters)\n",
    "\n",
    "        # x_coors = np.array([])\n",
    "        # y_coors = np.array([])\n",
    "        # for corner in corners:\n",
    "        #     x_coors = np.append(x_coors, corner.T[0])\n",
    "        #     y_coors = np.append(y_coors, corner.T[1])\n",
    "        # x_min = np.min(x_coors)\n",
    "        # y_min = np.min(y_coors)\n",
    "        # x_max = np.max(x_coors)\n",
    "        # y_max = np.max(y_coors)\n",
    "        # center_x = int((x_max + x_min) / 2)\n",
    "        # center_y = int((y_max + y_min) / 2)\n",
    "        # cv2.rectangle(frame, (int(x_max),int(y_max)), (int(x_min), int(y_min)), (0, 0, 255), 2)\n",
    "        # cv2.circle(frame, (center_x, center_y), 5, (0, 0, 255), -1)\n",
    "        # aruco.drawDetectedMarkers(frame, corners)\n",
    "\n",
    "        # Draw A square around the markers\n",
    "        list_frames_detection.append(frame)\n",
    "\n",
    "\n",
    "\n",
    "    out = cv2.VideoWriter('detection.mp4', cv2.VideoWriter_fourcc(*'mp4v'), fps, size)\n",
    "    for i in range(len(list_frames_detection)):\n",
    "        out.write(list_frames_detection[i])\n",
    "    out.release()\n",
    "\n",
    "track(camera_matrix,dist_matrix)"
   ],
   "metadata": {
    "collapsed": false,
    "pycharm": {
     "name": "#%%\n"
    }
   }
  },
  {
   "cell_type": "code",
   "execution_count": 17,
   "outputs": [],
   "source": [
    "a = np.array([0,1,3])"
   ],
   "metadata": {
    "collapsed": false,
    "pycharm": {
     "name": "#%%\n"
    }
   }
  },
  {
   "cell_type": "code",
   "execution_count": 18,
   "outputs": [
    {
     "ename": "AttributeError",
     "evalue": "'numpy.ndarray' object has no attribute 'pop'",
     "output_type": "error",
     "traceback": [
      "\u001B[1;31m---------------------------------------------------------------------------\u001B[0m",
      "\u001B[1;31mAttributeError\u001B[0m                            Traceback (most recent call last)",
      "Input \u001B[1;32mIn [18]\u001B[0m, in \u001B[0;36m<cell line: 1>\u001B[1;34m()\u001B[0m\n\u001B[1;32m----> 1\u001B[0m \u001B[43ma\u001B[49m\u001B[38;5;241;43m.\u001B[39;49m\u001B[43mpop\u001B[49m\n",
      "\u001B[1;31mAttributeError\u001B[0m: 'numpy.ndarray' object has no attribute 'pop'"
     ]
    }
   ],
   "source": [],
   "metadata": {
    "collapsed": false,
    "pycharm": {
     "name": "#%%\n"
    }
   }
  },
  {
   "cell_type": "code",
   "execution_count": 40,
   "outputs": [],
   "source": [
    "x_coors = np.array([])"
   ],
   "metadata": {
    "collapsed": false,
    "pycharm": {
     "name": "#%%\n"
    }
   }
  },
  {
   "cell_type": "code",
   "execution_count": 45,
   "outputs": [],
   "source": [
    "a = np.append(x_coors,np.array([1,2]))\n",
    "b = np.append(a, np.array([2,4,56]))"
   ],
   "metadata": {
    "collapsed": false,
    "pycharm": {
     "name": "#%%\n"
    }
   }
  },
  {
   "cell_type": "code",
   "execution_count": 46,
   "outputs": [
    {
     "data": {
      "text/plain": "array([ 1.,  2.,  2.,  4., 56.])"
     },
     "execution_count": 46,
     "metadata": {},
     "output_type": "execute_result"
    }
   ],
   "source": [
    "b"
   ],
   "metadata": {
    "collapsed": false,
    "pycharm": {
     "name": "#%%\n"
    }
   }
  },
  {
   "cell_type": "code",
   "execution_count": 35,
   "outputs": [
    {
     "data": {
      "text/plain": "<matplotlib.image.AxesImage at 0x189008ac760>"
     },
     "execution_count": 35,
     "metadata": {},
     "output_type": "execute_result"
    },
    {
     "data": {
      "text/plain": "<Figure size 864x576 with 4 Axes>",
      "image/png": "[encoded data removed]"
     },
     "metadata": {
      "needs_background": "light"
     },
     "output_type": "display_data"
    }
   ],
   "source": [
    "%matplotlib inline\n",
    "tag1 = np.zeros((300, 300, 1), dtype=\"uint8\")\n",
    "tag2 = np.zeros((300, 300, 1), dtype=\"uint8\")\n",
    "tag3 = np.zeros((300, 300, 1), dtype=\"uint8\")\n",
    "tag4 = np.zeros((300, 300, 1), dtype=\"uint8\")\n",
    "dictionary = aruco.Dictionary_get(aruco.DICT_5X5_250)\n",
    "aruco.drawMarker(dictionary, 248, 300, tag1, 1)\n",
    "aruco.drawMarker(dictionary, 200, 300, tag2, 1)\n",
    "aruco.drawMarker(dictionary, 150, 300, tag3, 1)\n",
    "aruco.drawMarker(dictionary, 100, 300, tag4, 1)\n",
    "fig = plt.figure(num=1, figsize=(12, 8))\n",
    "# draw the corresponding histogram\n",
    "plt.subplot(5, 5, 1)\n",
    "plt.imshow(tag1, cmap = plt.cm.gray)\n",
    "plt.subplot(5, 5, 5)\n",
    "plt.imshow(tag2, cmap = plt.cm.gray)\n",
    "plt.subplot(5, 5, 21)\n",
    "plt.imshow(tag3, cmap = plt.cm.gray)\n",
    "plt.subplot(5, 5, 25)\n",
    "plt.imshow(tag4, cmap = plt.cm.gray)"
   ],
   "metadata": {
    "collapsed": false,
    "pycharm": {
     "name": "#%%\n"
    }
   }
  },
  {
   "cell_type": "code",
   "execution_count": null,
   "outputs": [],
   "source": [
    "np.unique(tag)\n"
   ],
   "metadata": {
    "collapsed": false,
    "pycharm": {
     "name": "#%%\n"
    }
   }
  },
  {
   "cell_type": "code",
   "execution_count": null,
   "outputs": [],
   "source": [
    "cv2.aruco.DICT_5X5_100"
   ],
   "metadata": {
    "collapsed": false,
    "pycharm": {
     "name": "#%%\n"
    }
   }
  },
  {
   "cell_type": "code",
   "execution_count": null,
   "outputs": [],
   "source": [],
   "metadata": {
    "collapsed": false,
    "pycharm": {
     "name": "#%%\n"
    }
   }
  },
  {
   "cell_type": "code",
   "execution_count": 4,
   "outputs": [
    {
     "data": {
      "text/plain": "5"
     },
     "execution_count": 4,
     "metadata": {},
     "output_type": "execute_result"
    }
   ],
   "source": [
    "cv2.aruco.DICT_5X5_100"
   ],
   "metadata": {
    "collapsed": false,
    "pycharm": {
     "name": "#%%\n"
    }
   }
  },
  {
   "cell_type": "code",
   "execution_count": null,
   "outputs": [],
   "source": [],
   "metadata": {
    "collapsed": false,
    "pycharm": {
     "name": "#%%\n"
    }
   }
  }
 ],
 "metadata": {
  "kernelspec": {
   "name": "python3",
   "language": "python",
   "display_name": "Python 3 (ipykernel)"
  },
  "language_info": {
   "codemirror_mode": {
    "name": "ipython",
    "version": 2
   },
   "file_extension": ".py",
   "mimetype": "text/x-python",
   "name": "python",
   "nbconvert_exporter": "python",
   "pygments_lexer": "ipython2",
   "version": "2.7.6"
  }
 },
 "nbformat": 4,
 "nbformat_minor": 0
}