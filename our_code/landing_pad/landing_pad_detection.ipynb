{
 "cells": [
  {
   "cell_type": "code",
   "execution_count": 1,
   "outputs": [],
   "source": [
    "import cv2\n",
    "import numpy as np\n",
    "import matplotlib.pyplot as plt\n",
    "import cv2.aruco as aruco\n",
    "import glob"
   ],
   "metadata": {
    "collapsed": false,
    "pycharm": {
     "name": "#%%\n"
    }
   }
  },
  {
   "cell_type": "markdown",
   "source": [
    "# Calibrate the camera."
   ],
   "metadata": {
    "collapsed": false,
    "pycharm": {
     "name": "#%% md\n"
    }
   }
  },
  {
   "cell_type": "code",
   "execution_count": 2,
   "outputs": [],
   "source": [
    "# termination criteria\n",
    "criteria = (cv2.TERM_CRITERIA_EPS + cv2.TERM_CRITERIA_MAX_ITER, 30, 0.001)\n",
    "\n",
    "\n",
    "def calibrate(dirpath, prefix, image_format, square_size, width=9, height=6):\n",
    "    \"\"\" Apply camera calibration operation for images in the given directory path. \"\"\"\n",
    "    # prepare object points, like (0,0,0), (1,0,0), (2,0,0) ....,(8,6,0)\n",
    "    objp = np.zeros((height*width, 3), np.float32)\n",
    "    objp[:, :2] = np.mgrid[0:width, 0:height].T.reshape(-1, 2)\n",
    "\n",
    "    objp = objp * square_size\n",
    "\n",
    "    # Arrays to store object points and image points from all the images.\n",
    "    objpoints = []  # 3d point in real world space\n",
    "    imgpoints = []  # 2d points in image plane.\n",
    "\n",
    "    if dirpath[-1:] == '/':\n",
    "        dirpath = dirpath[:-1]\n",
    "\n",
    "    images = glob.glob(dirpath+'/' + prefix + '*.' + image_format)\n",
    "\n",
    "    for fname in images:\n",
    "        img = cv2.imread(fname)\n",
    "        gray = cv2.cvtColor(img, cv2.COLOR_BGR2GRAY)\n",
    "\n",
    "        # Find the chess board corners\n",
    "        ret, corners = cv2.findChessboardCorners(gray, (width, height), None)\n",
    "\n",
    "        # If found, add object points, image points (after refining them)\n",
    "        if ret:\n",
    "            objpoints.append(objp)\n",
    "\n",
    "            corners2 = cv2.cornerSubPix(gray, corners, (11, 11), (-1, -1), criteria)\n",
    "            imgpoints.append(corners2)\n",
    "\n",
    "            # Draw and display the corners\n",
    "            img = cv2.drawChessboardCorners(img, (width, height), corners2, ret)\n",
    "\n",
    "    ret, mtx, dist, rvecs, tvecs = cv2.calibrateCamera(objpoints, imgpoints, gray.shape[::-1], None, None)\n",
    "\n",
    "    return [ret, mtx, dist, rvecs, tvecs]\n",
    "def save_coefficients(mtx, dist, path):\n",
    "    \"\"\" Save the camera matrix and the distortion coefficients to given path/file. \"\"\"\n",
    "    cv_file = cv2.FileStorage(path, cv2.FILE_STORAGE_WRITE)\n",
    "    cv_file.write(\"K\", mtx)\n",
    "    cv_file.write(\"D\", dist)\n",
    "    # note you *release* you don't close() a FileStorage object\n",
    "    cv_file.release()\n",
    "def load_coefficients(path):\n",
    "    \"\"\" Loads camera matrix and distortion coefficients. \"\"\"\n",
    "    # FILE_STORAGE_READ\n",
    "    cv_file = cv2.FileStorage(path, cv2.FILE_STORAGE_READ)\n",
    "\n",
    "    # note we also have to specify the type to retrieve other wise we only get a\n",
    "    # FileNode object back instead of a matrix\n",
    "    camera_matrix = cv_file.getNode(\"K\").mat()\n",
    "    dist_matrix = cv_file.getNode(\"D\").mat()\n",
    "\n",
    "    cv_file.release()\n",
    "    return [camera_matrix, dist_matrix]"
   ],
   "metadata": {
    "collapsed": false,
    "pycharm": {
     "name": "#%%\n"
    }
   }
  },
  {
   "cell_type": "code",
   "execution_count": 12,
   "outputs": [
    {
     "name": "stdout",
     "output_type": "stream",
     "text": [
      "Calibration is finished. RMS:  8.876811870832384\n"
     ]
    }
   ],
   "source": [
    "ret, mtx, dist, rvecs, tvecs = calibrate('calibrate_images', 'img', 'jpg', 0.024, 9, 6)\n",
    "save_coefficients(mtx, dist, '13pro_coef')\n",
    "print(\"Calibration is finished. RMS: \", ret)"
   ],
   "metadata": {
    "collapsed": false,
    "pycharm": {
     "name": "#%%\n"
    }
   }
  },
  {
   "cell_type": "code",
   "execution_count": 3,
   "outputs": [],
   "source": [
    "[camera_matrix, dist_matrix] = load_coefficients('13pro_coef')"
   ],
   "metadata": {
    "collapsed": false,
    "pycharm": {
     "name": "#%%\n"
    }
   }
  },
  {
   "cell_type": "code",
   "execution_count": 6,
   "outputs": [],
   "source": [
    "cap = cv2.VideoCapture('test.mp4')  # Get the camera source\n",
    "width = cap.get(cv2. CAP_PROP_FRAME_WIDTH )   # float `width`\n",
    "height = cap.get(cv2. CAP_PROP_FRAME_HEIGHT )  # float `height`\n",
    "size = (width, height)\n",
    "fps = cap.get(cv2. CAP_PROP_FPS)"
   ],
   "metadata": {
    "collapsed": false,
    "pycharm": {
     "name": "#%%\n"
    }
   }
  },
  {
   "cell_type": "code",
   "execution_count": 10,
   "outputs": [
    {
     "data": {
      "text/plain": "30.0"
     },
     "execution_count": 10,
     "metadata": {},
     "output_type": "execute_result"
    }
   ],
   "source": [
    "fps"
   ],
   "metadata": {
    "collapsed": false,
    "pycharm": {
     "name": "#%%\n"
    }
   }
  },
  {
   "cell_type": "code",
   "execution_count": 57,
   "outputs": [],
   "source": [
    "cap = cv2.VideoCapture('testbox.mp4')  # Get the camera source\n",
    "width = cap.get(cv2. CAP_PROP_FRAME_WIDTH )   # float `width`\n",
    "height = cap.get(cv2. CAP_PROP_FRAME_HEIGHT )  # float `height`\n",
    "size = (int(width), int(height))\n",
    "fps = cap.get(cv2. CAP_PROP_FPS)\n",
    "\n",
    "def track(matrix_coefficients, distortion_coefficients):\n",
    "\n",
    "    list_frames_detection = []\n",
    "\n",
    "    while True:\n",
    "        ret, frame = cap.read()\n",
    "        if ret == False:\n",
    "            break\n",
    "        # operations on the frame come here\n",
    "        gray = cv2.cvtColor(frame, cv2.COLOR_BGR2GRAY)  # Change grayscale\n",
    "        aruco_dict = aruco.Dictionary_get(aruco.DICT_5X5_250)  # Use 5x5 dictionary to find markers\n",
    "        parameters = aruco.DetectorParameters_create()  # Marker detection parameters\n",
    "        # lists of ids and the corners beloning to each id\n",
    "        corners, ids, rejected_img_points = aruco.detectMarkers(gray, aruco_dict,\n",
    "                                                                parameters=parameters)\n",
    "                                                                # cameraMatrix=matrix_coefficients,\n",
    "                                                                # distCoeff=distortion_coefficients)\n",
    "        if np.all(ids is not None):  # If there are markers found by detector\n",
    "            for i in range(0, len(ids)):  # Iterate in markers\n",
    "                # Estimate pose of each marker and return the values rvec and tvec---different from camera coefficients\n",
    "                rvec, tvec, markerPoints = aruco.estimatePoseSingleMarkers(corners[i], 0.02, matrix_coefficients,\n",
    "                                                                           distortion_coefficients)\n",
    "                (rvec - tvec).any()  # get rid of that nasty numpy value array error\n",
    "        x_coors = np.array([])\n",
    "        y_coors = np.array([])\n",
    "        for corner in corners:\n",
    "            x_coors = np.append(x_coors, corner.T[0])\n",
    "            y_coors = np.append(y_coors, corner.T[1])\n",
    "        x_min = np.min(x_coors)\n",
    "        y_min = np.min(y_coors)\n",
    "        x_max = np.max(x_coors)\n",
    "        y_max = np.max(y_coors)\n",
    "        center_x = int((x_max + x_min) / 2)\n",
    "        center_y = int((y_max + y_min) / 2)\n",
    "        cv2.rectangle(frame, (int(x_max),int(y_max)), (int(x_min), int(y_min)), (0, 0, 255), 2)\n",
    "        cv2.circle(frame, (center_x, center_y), 5, (0, 0, 255), -1)\n",
    "        aruco.drawDetectedMarkers(frame, corners)\n",
    "\n",
    "        # Draw A square around the markers\n",
    "        list_frames_detection.append(frame)\n",
    "\n",
    "\n",
    "\n",
    "    out = cv2.VideoWriter('detection.mp4', cv2.VideoWriter_fourcc(*'mp4v'), fps, size)\n",
    "    for i in range(len(list_frames_detection)):\n",
    "        out.write(list_frames_detection[i])\n",
    "    out.release()\n",
    "\n",
    "track(camera_matrix,dist_matrix)"
   ],
   "metadata": {
    "collapsed": false,
    "pycharm": {
     "name": "#%%\n"
    }
   }
  },
  {
   "cell_type": "code",
   "execution_count": 40,
   "outputs": [],
   "source": [
    "x_coors = np.array([])"
   ],
   "metadata": {
    "collapsed": false,
    "pycharm": {
     "name": "#%%\n"
    }
   }
  },
  {
   "cell_type": "code",
   "execution_count": 45,
   "outputs": [],
   "source": [
    "a = np.append(x_coors,np.array([1,2]))\n",
    "b = np.append(a, np.array([2,4,56]))"
   ],
   "metadata": {
    "collapsed": false,
    "pycharm": {
     "name": "#%%\n"
    }
   }
  },
  {
   "cell_type": "code",
   "execution_count": 46,
   "outputs": [
    {
     "data": {
      "text/plain": "array([ 1.,  2.,  2.,  4., 56.])"
     },
     "execution_count": 46,
     "metadata": {},
     "output_type": "execute_result"
    }
   ],
   "source": [
    "b"
   ],
   "metadata": {
    "collapsed": false,
    "pycharm": {
     "name": "#%%\n"
    }
   }
  },
  {
   "cell_type": "code",
   "execution_count": 35,
   "outputs": [
    {
     "data": {
      "text/plain": "<matplotlib.image.AxesImage at 0x189008ac760>"
     },
     "execution_count": 35,
     "metadata": {},
     "output_type": "execute_result"
    },
    {
     "data": {
      "text/plain": "<Figure size 864x576 with 4 Axes>",
      "image/png": "[encoded data removed]"
     },
     "metadata": {
      "needs_background": "light"
     },
     "output_type": "display_data"
    }
   ],
   "source": [
    "%matplotlib inline\n",
    "tag1 = np.zeros((300, 300, 1), dtype=\"uint8\")\n",
    "tag2 = np.zeros((300, 300, 1), dtype=\"uint8\")\n",
    "tag3 = np.zeros((300, 300, 1), dtype=\"uint8\")\n",
    "tag4 = np.zeros((300, 300, 1), dtype=\"uint8\")\n",
    "dictionary = aruco.Dictionary_get(aruco.DICT_5X5_250)\n",
    "aruco.drawMarker(dictionary, 248, 300, tag1, 1)\n",
    "aruco.drawMarker(dictionary, 200, 300, tag2, 1)\n",
    "aruco.drawMarker(dictionary, 150, 300, tag3, 1)\n",
    "aruco.drawMarker(dictionary, 100, 300, tag4, 1)\n",
    "fig = plt.figure(num=1, figsize=(12, 8))\n",
    "# draw the corresponding histogram\n",
    "plt.subplot(5, 5, 1)\n",
    "plt.imshow(tag1, cmap = plt.cm.gray)\n",
    "plt.subplot(5, 5, 5)\n",
    "plt.imshow(tag2, cmap = plt.cm.gray)\n",
    "plt.subplot(5, 5, 21)\n",
    "plt.imshow(tag3, cmap = plt.cm.gray)\n",
    "plt.subplot(5, 5, 25)\n",
    "plt.imshow(tag4, cmap = plt.cm.gray)"
   ],
   "metadata": {
    "collapsed": false,
    "pycharm": {
     "name": "#%%\n"
    }
   }
  },
  {
   "cell_type": "code",
   "execution_count": 3,
   "outputs": [
    {
     "data": {
      "text/plain": "array([  0, 255], dtype=uint8)"
     },
     "execution_count": 3,
     "metadata": {},
     "output_type": "execute_result"
    }
   ],
   "source": [
    "np.unique(tag)\n"
   ],
   "metadata": {
    "collapsed": false,
    "pycharm": {
     "name": "#%%\n"
    }
   }
  },
  {
   "cell_type": "code",
   "execution_count": 4,
   "outputs": [
    {
     "data": {
      "text/plain": "5"
     },
     "execution_count": 4,
     "metadata": {},
     "output_type": "execute_result"
    }
   ],
   "source": [
    "cv2.aruco.DICT_5X5_100"
   ],
   "metadata": {
    "collapsed": false,
    "pycharm": {
     "name": "#%%\n"
    }
   }
  },
  {
   "cell_type": "code",
   "execution_count": null,
   "outputs": [],
   "source": [],
   "metadata": {
    "collapsed": false,
    "pycharm": {
     "name": "#%%\n"
    }
   }
  }
 ],
 "metadata": {
  "kernelspec": {
   "name": "python3",
   "language": "python",
   "display_name": "Python 3 (ipykernel)"
  },
  "language_info": {
   "codemirror_mode": {
    "name": "ipython",
    "version": 2
   },
   "file_extension": ".py",
   "mimetype": "text/x-python",
   "name": "python",
   "nbconvert_exporter": "python",
   "pygments_lexer": "ipython2",
   "version": "2.7.6"
  }
 },
 "nbformat": 4,
 "nbformat_minor": 0
}