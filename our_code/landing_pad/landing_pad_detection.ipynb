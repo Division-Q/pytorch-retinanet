{
 "cells": [
  {
   "cell_type": "code",
   "execution_count": 1,
   "metadata": {
    "collapsed": false,
    "pycharm": {
     "name": "#%%\n"
    }
   },
   "outputs": [],
   "source": [
    "import cv2\n",
    "import numpy as np\n",
    "import matplotlib.pyplot as plt\n",
    "import cv2.aruco as aruco\n",
    "import glob"
   ]
  },
  {
   "cell_type": "markdown",
   "metadata": {
    "collapsed": false,
    "pycharm": {
     "name": "#%% md\n"
    }
   },
   "source": [
    "# Generate the ArUco Markers."
   ]
  },
  {
   "cell_type": "code",
   "execution_count": 2,
   "metadata": {
    "collapsed": false,
    "pycharm": {
     "name": "#%%\n"
    }
   },
   "outputs": [
    {
     "data": {
      "text/plain": "<matplotlib.image.AxesImage at 0x220edc77370>"
     },
     "execution_count": 2,
     "metadata": {},
     "output_type": "execute_result"
    },
    {
     "data": {
      "text/plain": "<Figure size 432x288 with 1 Axes>",
      "image/png": "[encoded data removed]"
     },
     "metadata": {
      "needs_background": "light"
     },
     "output_type": "display_data"
    }
   ],
   "source": [
    "%matplotlib inline\n",
    "tag1 = np.zeros((300, 300, 1), dtype=\"uint8\")\n",
    "\n",
    "dictionary = aruco.Dictionary_get(aruco.DICT_5X5_250)\n",
    "aruco.drawMarker(dictionary, 248, 300, tag1, 1)\n",
    "\n",
    "fig = plt.figure()\n",
    "plt.imshow(tag1, cmap = plt.cm.gray)\n"
   ]
  },
  {
   "cell_type": "markdown",
   "metadata": {
    "collapsed": false,
    "pycharm": {
     "name": "#%% md\n"
    }
   },
   "source": [
    "# Calibrate the camera."
   ]
  },
  {
   "cell_type": "code",
   "execution_count": 3,
   "metadata": {
    "collapsed": false,
    "pycharm": {
     "name": "#%%\n"
    }
   },
   "outputs": [],
   "source": [
    "# termination criteria\n",
    "criteria = (cv2.TERM_CRITERIA_EPS + cv2.TERM_CRITERIA_MAX_ITER, 30, 0.001)\n",
    "\n",
    "\n",
    "def calibrate(dirpath, prefix, image_format, square_size, width=9, height=6):\n",
    "    \"\"\" Apply camera calibration operation for images in the given directory path. \"\"\"\n",
    "    # prepare object points, like (0,0,0), (1,0,0), (2,0,0) ....,(8,6,0)\n",
    "    objp = np.zeros((height*width, 3), np.float32)\n",
    "    objp[:, :2] = np.mgrid[0:width, 0:height].T.reshape(-1, 2)\n",
    "\n",
    "    objp = objp * square_size\n",
    "\n",
    "    # Arrays to store object points and image points from all the images.\n",
    "    objpoints = []  # 3d point in real world space\n",
    "    imgpoints = []  # 2d points in image plane.\n",
    "\n",
    "    if dirpath[-1:] == '/':\n",
    "        dirpath = dirpath[:-1]\n",
    "\n",
    "    images = glob.glob(dirpath+'/' + prefix + '*.' + image_format)\n",
    "\n",
    "    for fname in images:\n",
    "        img = cv2.imread(fname)\n",
    "        gray = cv2.cvtColor(img, cv2.COLOR_BGR2GRAY)\n",
    "\n",
    "        # Find the chess board corners\n",
    "        ret, corners = cv2.findChessboardCorners(gray, (width, height), None)\n",
    "\n",
    "        # If found, add object points, image points (after refining them)\n",
    "        if ret:\n",
    "            objpoints.append(objp)\n",
    "\n",
    "            corners2 = cv2.cornerSubPix(gray, corners, (11, 11), (-1, -1), criteria)\n",
    "            imgpoints.append(corners2)\n",
    "\n",
    "            # Draw and display the corners\n",
    "            img = cv2.drawChessboardCorners(img, (width, height), corners2, ret)\n",
    "\n",
    "    ret, mtx, dist, rvecs, tvecs = cv2.calibrateCamera(objpoints, imgpoints, gray.shape[::-1], None, None)\n",
    "\n",
    "    return [ret, mtx, dist, rvecs, tvecs]\n"
   ]
  },
  {
   "cell_type": "code",
   "execution_count": 4,
   "metadata": {
    "pycharm": {
     "name": "#%%\n"
    }
   },
   "outputs": [],
   "source": [
    "def save_coefficients(mtx, dist, path):\n",
    "    \"\"\" Save the camera matrix and the distortion coefficients to given path/file. \"\"\"\n",
    "    cv_file = cv2.FileStorage(path, cv2.FILE_STORAGE_WRITE)\n",
    "    cv_file.write(\"K\", mtx)\n",
    "    cv_file.write(\"D\", dist)\n",
    "    # note you *release* you don't close() a FileStorage object\n",
    "    cv_file.release()\n",
    "def load_coefficients(path):\n",
    "    \"\"\" Loads camera matrix and distortion coefficients. \"\"\"\n",
    "    # FILE_STORAGE_READ\n",
    "    cv_file = cv2.FileStorage(path, cv2.FILE_STORAGE_READ)\n",
    "\n",
    "    # note we also have to specify the type to retrieve other wise we only get a\n",
    "    # FileNode object back instead of a matrix\n",
    "    camera_matrix = cv_file.getNode(\"K\").mat()\n",
    "    dist_matrix = cv_file.getNode(\"D\").mat()\n",
    "\n",
    "    cv_file.release()\n",
    "    return [camera_matrix, dist_matrix]"
   ]
  },
  {
   "cell_type": "code",
   "execution_count": 5,
   "metadata": {
    "collapsed": false,
    "pycharm": {
     "name": "#%%\n"
    }
   },
   "outputs": [
    {
     "name": "stdout",
     "output_type": "stream",
     "text": [
      "Calibration is finished. RMS:  8.876811870832384\n"
     ]
    }
   ],
   "source": [
    "ret, mtx, dist, rvecs, tvecs = calibrate('calibrate_images/13_pro_img/', 'img', 'jpg', 0.024, 9, 6)\n",
    "save_coefficients(mtx, dist, '13pro_coef_img')\n",
    "print(\"Calibration is finished. RMS: \", ret)"
   ]
  },
  {
   "cell_type": "code",
   "execution_count": 6,
   "metadata": {
    "collapsed": false,
    "pycharm": {
     "name": "#%%\n"
    }
   },
   "outputs": [],
   "source": [
    "[camera_matrix, dist_matrix] = load_coefficients('13pro_coef')"
   ]
  },
  {
   "cell_type": "code",
   "execution_count": 7,
   "metadata": {
    "collapsed": false,
    "pycharm": {
     "name": "#%%\n"
    }
   },
   "outputs": [],
   "source": [
    "def draw_text(img, text,\n",
    "          font=cv2.FONT_HERSHEY_PLAIN,\n",
    "          pos=(0, 0),\n",
    "          font_scale=3,\n",
    "          font_thickness=2,\n",
    "          text_color=(0, 255, 0),\n",
    "          text_color_bg=(0, 0, 0)\n",
    "          ):\n",
    "\n",
    "    x, y = pos\n",
    "    text_size, _ = cv2.getTextSize(text, font, font_scale, font_thickness)\n",
    "    text_w, text_h = text_size\n",
    "    cv2.rectangle(img, pos, (x + text_w, y - text_h - 15), text_color_bg, -1)\n",
    "    cv2.putText(img, text, (x, y - font_scale - 10), font, font_scale, text_color, font_thickness)\n"
   ]
  },
  {
   "cell_type": "code",
   "execution_count": 8,
   "metadata": {
    "collapsed": false,
    "pycharm": {
     "name": "#%%\n"
    }
   },
   "outputs": [],
   "source": [
    "def detect_landing_pad(input_video):\n",
    "\n",
    "    width = input_video.get(cv2. CAP_PROP_FRAME_WIDTH )   # float `width`\n",
    "    height = input_video.get(cv2. CAP_PROP_FRAME_HEIGHT )  # float `height`\n",
    "    size = (int(width), int(height))\n",
    "    fps = input_video.get(cv2. CAP_PROP_FPS)\n",
    "\n",
    "    list_frames_detection = []\n",
    "\n",
    "    while True:\n",
    "        ret, frame = input_video.read()\n",
    "        if ret == False:\n",
    "            break\n",
    "        # operations on the frame come here\n",
    "        aruco_dict = aruco.Dictionary_get(aruco.DICT_5X5_250)  # Use 5x5 dictionary to find markers\n",
    "        parameters = aruco.DetectorParameters_create()  # Marker detection parameters\n",
    "\n",
    "        corners, ids, rejected = cv2.aruco.detectMarkers(image=frame, dictionary=aruco_dict, parameters=parameters)\n",
    "        color = (0,0,255)\n",
    "\n",
    "        if len(corners) == 4:\n",
    "            point_1 = [int(i) for i in (corners[np.where(ids==248)[0][0]][0][0])]\n",
    "            point_2 = [int(i) for i in (corners[np.where(ids==200)[0][0]][0][1])]\n",
    "            point_3 = [int(i) for i in (corners[np.where(ids==150)[0][0]][0][3])]\n",
    "            point_4 = [int(i) for i in (corners[np.where(ids==100)[0][0]][0][2])]\n",
    "            cv2.line(frame, point_1,point_2, color, 2)\n",
    "            cv2.line(frame, point_3,point_4, color, 2)\n",
    "            cv2.line(frame, point_1,point_3, color, 2)\n",
    "            cv2.line(frame, point_2,point_4, color, 2)\n",
    "\n",
    "\n",
    "            draw_text(frame, \"Landing Pad\", font=cv2.FONT_HERSHEY_SIMPLEX, font_scale=1, pos=point_1, text_color_bg=color, text_color=(255,255,255))\n",
    "\n",
    "        else:\n",
    "            x_coors = np.array([])\n",
    "            y_coors = np.array([])\n",
    "            for corner in corners:\n",
    "                x_coors = np.append(x_coors, corner.T[0])\n",
    "                y_coors = np.append(y_coors, corner.T[1])\n",
    "            if x_coors.any() or y_coors.any():\n",
    "                x_min = np.min(x_coors)\n",
    "                y_min = np.min(y_coors)\n",
    "                x_max = np.max(x_coors)\n",
    "                y_max = np.max(y_coors)\n",
    "            cv2.rectangle(frame, (int(x_max),int(y_max)), (int(x_min), int(y_min)), color, 2)\n",
    "\n",
    "            org = (int(x_min), int(y_min))\n",
    "            \n",
    "            draw_text(frame, \"Landing Pad\", font=cv2.FONT_HERSHEY_SIMPLEX, font_scale=1, pos=org, text_color_bg=color, text_color=(255,255,255))\n",
    "\n",
    "        list_frames_detection.append(frame)\n",
    "\n",
    "\n",
    "\n",
    "    out = cv2.VideoWriter('detection.mp4', cv2.VideoWriter_fourcc(*'mp4v'), fps, size)\n",
    "    for i in range(len(list_frames_detection)):\n",
    "        out.write(list_frames_detection[i])\n",
    "    out.release()\n",
    "\n",
    "    print(\"Output Saved to detection.mp4\")\n"
   ]
  },
  {
   "cell_type": "code",
   "execution_count": 9,
   "metadata": {
    "collapsed": false,
    "pycharm": {
     "name": "#%%\n"
    }
   },
   "outputs": [
    {
     "name": "stdout",
     "output_type": "stream",
     "text": [
      "Output Saved to detection.mp4\n",
      "The time cost for this 16s image is 5.52s.\n"
     ]
    }
   ],
   "source": [
    "import time\n",
    "st = time.time()\n",
    "detect_landing_pad(cv2.VideoCapture('test_videos/testbox.mp4'))\n",
    "time_cost = time.time() - st\n",
    "print(\"The time cost for this 16s image is {:.3}s.\".format(time_cost))"
   ]
  },
  {
   "cell_type": "code",
   "execution_count": 10,
   "outputs": [
    {
     "data": {
      "text/plain": "<matplotlib.image.AxesImage at 0x220802b7a60>"
     },
     "execution_count": 10,
     "metadata": {},
     "output_type": "execute_result"
    },
    {
     "data": {
      "text/plain": "<Figure size 864x576 with 4 Axes>",
      "image/png": "[encoded data removed]"
     },
     "metadata": {
      "needs_background": "light"
     },
     "output_type": "display_data"
    }
   ],
   "source": [
    "%matplotlib inline\n",
    "tag1 = np.zeros((300, 300, 1), dtype=\"uint8\")\n",
    "tag2 = np.zeros((300, 300, 1), dtype=\"uint8\")\n",
    "tag3 = np.zeros((300, 300, 1), dtype=\"uint8\")\n",
    "tag4 = np.zeros((300, 300, 1), dtype=\"uint8\")\n",
    "dictionary = aruco.Dictionary_get(aruco.DICT_5X5_250)\n",
    "aruco.drawMarker(dictionary, 248, 300, tag1, 1)\n",
    "aruco.drawMarker(dictionary, 200, 300, tag2, 1)\n",
    "aruco.drawMarker(dictionary, 150, 300, tag3, 1)\n",
    "aruco.drawMarker(dictionary, 100, 300, tag4, 1)\n",
    "fig = plt.figure(num=1, figsize=(12, 8))\n",
    "# draw the corresponding histogram\n",
    "plt.subplot(5, 5, 1)\n",
    "plt.imshow(tag1, cmap = plt.cm.gray)\n",
    "plt.subplot(5, 5, 5)\n",
    "plt.imshow(tag2, cmap = plt.cm.gray)\n",
    "plt.subplot(5, 5, 21)\n",
    "plt.imshow(tag3, cmap = plt.cm.gray)\n",
    "plt.subplot(5, 5, 25)\n",
    "plt.imshow(tag4, cmap = plt.cm.gray)"
   ],
   "metadata": {
    "collapsed": false,
    "pycharm": {
     "name": "#%%\n"
    }
   }
  },
  {
   "cell_type": "code",
   "execution_count": null,
   "outputs": [],
   "source": [],
   "metadata": {
    "collapsed": false,
    "pycharm": {
     "name": "#%%\n"
    }
   }
  }
 ],
 "metadata": {
  "kernelspec": {
   "display_name": "Python 3.9.12 ('base')",
   "language": "python",
   "name": "python3"
  },
  "language_info": {
   "codemirror_mode": {
    "name": "ipython",
    "version": 3
   },
   "file_extension": ".py",
   "mimetype": "text/x-python",
   "name": "python",
   "nbconvert_exporter": "python",
   "pygments_lexer": "ipython3",
   "version": "3.9.12"
  },
  "vscode": {
   "interpreter": {
    "hash": "ad2bdc8ecc057115af97d19610ffacc2b4e99fae6737bb82f5d7fb13d2f2c186"
   }
  }
 },
 "nbformat": 4,
 "nbformat_minor": 0
}